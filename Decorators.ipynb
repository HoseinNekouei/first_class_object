{
 "cells": [
  {
   "cell_type": "code",
   "execution_count": 23,
   "id": "01e27d27",
   "metadata": {},
   "outputs": [
    {
     "name": "stdout",
     "output_type": "stream",
     "text": [
      "****************************************\n",
      "(['Deep Python', 'tensorflow'],)\n",
      "****************************************\n",
      "****************************************\n",
      "('Advance', 'intermediate')\n",
      "****************************************\n"
     ]
    }
   ],
   "source": [
    "def decorator_func(func):\n",
    "    \n",
    "    def inner(*args, **kwargs):\n",
    "        print(\"****************************************\")\n",
    "        func(*args, **kwargs)\n",
    "        print(\"****************************************\")\n",
    "    \n",
    "    return inner\n",
    "    \n",
    "\n",
    "@decorator_func\n",
    "def print_course(*course):\n",
    "    print(course)\n",
    "        \n",
    "@decorator_func        \n",
    "def level(*level_course):\n",
    "    print(level_course)\n",
    "    \n",
    "## closur    \n",
    "# outer = decorator_func(level)\n",
    "# outer('Advancce')\n",
    "\n",
    "## Decorator\n",
    "course_list = ['Deep Python', 'tensorflow']\n",
    "#unpaking a list when call a function\n",
    "print_course(*course_list)\n",
    "\n",
    "level('Advance', 'intermediate')\n"
   ]
  },
  {
   "cell_type": "code",
   "execution_count": 6,
   "id": "408f552d",
   "metadata": {},
   "outputs": [
    {
     "name": "stdout",
     "output_type": "stream",
     "text": [
      "Time of execution is: 10.68 s\n",
      "Time of execution is: 10.39 s\n"
     ]
    }
   ],
   "source": [
    "# calculate the time of function execution\n",
    "\n",
    "from time import time\n",
    "def timer_decorator(func):\n",
    "    \n",
    "    def warpper():\n",
    "        start = time()\n",
    "        func()\n",
    "        end = time()\n",
    "        print(f'Time of execution is: {end - start :.2f} s')\n",
    "\n",
    "    return warpper\n",
    "\n",
    "\n",
    "@timer_decorator\n",
    "def mul():\n",
    "    for i in range(10000):\n",
    "        for j in range(10000):\n",
    "            i*j\n",
    "\n",
    "\n",
    "@timer_decorator\n",
    "def plus():\n",
    "    for i in range(10000):\n",
    "        for j in range(10000):\n",
    "            i+j    \n",
    "\n",
    "            \n",
    "#mul = timer_decorator(mul)\n",
    "mul()\n",
    "plus()"
   ]
  }
 ],
 "metadata": {
  "kernelspec": {
   "display_name": "Python 3 (ipykernel)",
   "language": "python",
   "name": "python3"
  },
  "language_info": {
   "codemirror_mode": {
    "name": "ipython",
    "version": 3
   },
   "file_extension": ".py",
   "mimetype": "text/x-python",
   "name": "python",
   "nbconvert_exporter": "python",
   "pygments_lexer": "ipython3",
   "version": "3.9.13"
  }
 },
 "nbformat": 4,
 "nbformat_minor": 5
}
